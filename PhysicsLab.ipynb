{
 "cells": [
  {
   "cell_type": "code",
   "execution_count": 1,
   "id": "6ae3e5c1-c0f0-433e-8c0a-45ca935dcecc",
   "metadata": {},
   "outputs": [
    {
     "name": "stdout",
     "output_type": "stream",
     "text": [
      "dtotal =  2.2\n",
      "errdtota =  0.001\n"
     ]
    }
   ],
   "source": [
    "def rule1 (c, da):\n",
    "    dQ = c*da\n",
    "d1 = 1.0\n",
    "d2 = 1.2\n",
    "dtotal = d1 + d2\n",
    "errd1 = .0005\n",
    "errd2 = .0005\n",
    "errdtotal = errd1 + errd2\n",
    "print(\"dtotal = \", dtotal)\n",
    "print(\"errdtota = \", errdtotal)"
   ]
  },
  {
   "cell_type": "code",
   "execution_count": 9,
   "id": "0f5fff41-ad4f-47be-b2b3-596277fa88d6",
   "metadata": {},
   "outputs": [
    {
     "name": "stdout",
     "output_type": "stream",
     "text": [
      "Q =  2.0\n",
      "errq =  11.2\n"
     ]
    }
   ],
   "source": [
    "def rule2 (c, m, A, Q):\n",
    "    dQ = Q*(m*(c/A))\n",
    "    return dQ\n",
    "A = 0.5 \n",
    "c = 2.0\n",
    "m = 1.4\n",
    "Q = 2.0 \n",
    "errq = rule2(c, m, A, Q)\n",
    "print(\"Q = \", Q)\n",
    "print(\"errq = \", errq)\n"
   ]
  },
  {
   "cell_type": "code",
   "execution_count": 10,
   "id": "d6c035ad-5a1f-4e8c-94a2-c75a34e00eed",
   "metadata": {},
   "outputs": [
    {
     "name": "stdout",
     "output_type": "stream",
     "text": [
      "dtotal =  1.3\n",
      "errdtotal =  0.0007071067811865475\n"
     ]
    }
   ],
   "source": [
    "import numpy as np\n",
    "def rule3(da, db):\n",
    "    dQ = np.sqrt(da**2+db**2)\n",
    "    return dQ\n",
    "d1 = 1.0\n",
    "d2 = 0.3\n",
    "errd1 = 0.0005\n",
    "errd2 = 0.0005\n",
    "dtotal = d1 + d2 \n",
    "errdtotal = rule3(errd1, errd2)\n",
    "print(\"dtotal = \", dtotal)\n",
    "print(\"errdtotal = \", errdtotal)"
   ]
  },
  {
   "cell_type": "code",
   "execution_count": 17,
   "id": "aca73092-352b-4e75-b80b-dedd374281a1",
   "metadata": {
    "collapsed": true,
    "jupyter": {
     "outputs_hidden": true,
     "source_hidden": true
    },
    "tags": []
   },
   "outputs": [
    {
     "ename": "TypeError",
     "evalue": "rule4() missing 6 required positional arguments: 'dC', 'o', 'D', 'dD', 'l', and 'Q'",
     "output_type": "error",
     "traceback": [
      "\u001b[0;31m---------------------------------------------------------------------------\u001b[0m",
      "\u001b[0;31mTypeError\u001b[0m                                 Traceback (most recent call last)",
      "\u001b[0;32m<ipython-input-17-6cfda124366e>\u001b[0m in \u001b[0;36m<module>\u001b[0;34m\u001b[0m\n\u001b[1;32m      8\u001b[0m \u001b[0mn\u001b[0m \u001b[0;34m=\u001b[0m \u001b[0;36m1\u001b[0m\u001b[0;34m\u001b[0m\u001b[0;34m\u001b[0m\u001b[0m\n\u001b[1;32m      9\u001b[0m \u001b[0mQ\u001b[0m \u001b[0;34m=\u001b[0m \u001b[0mc\u001b[0m\u001b[0;34m*\u001b[0m\u001b[0;34m(\u001b[0m\u001b[0md1\u001b[0m\u001b[0;34m**\u001b[0m\u001b[0mm\u001b[0m\u001b[0;34m)\u001b[0m\u001b[0;34m*\u001b[0m\u001b[0;34m(\u001b[0m\u001b[0md2\u001b[0m\u001b[0;34m**\u001b[0m\u001b[0mn\u001b[0m\u001b[0;34m)\u001b[0m\u001b[0;34m\u001b[0m\u001b[0;34m\u001b[0m\u001b[0m\n\u001b[0;32m---> 10\u001b[0;31m \u001b[0merrQ\u001b[0m \u001b[0;34m=\u001b[0m \u001b[0mrule4\u001b[0m\u001b[0;34m(\u001b[0m\u001b[0md1\u001b[0m\u001b[0;34m,\u001b[0m \u001b[0merrd1\u001b[0m\u001b[0;34m,\u001b[0m \u001b[0mm\u001b[0m\u001b[0;34m,\u001b[0m \u001b[0md2\u001b[0m\u001b[0;34m,\u001b[0m \u001b[0merrd2\u001b[0m\u001b[0;34m,\u001b[0m \u001b[0mn\u001b[0m\u001b[0;34m,\u001b[0m \u001b[0mQ\u001b[0m\u001b[0;34m)\u001b[0m\u001b[0;34m\u001b[0m\u001b[0;34m\u001b[0m\u001b[0m\n\u001b[0m\u001b[1;32m     11\u001b[0m \u001b[0;34m\u001b[0m\u001b[0m\n\u001b[1;32m     12\u001b[0m \u001b[0mprint\u001b[0m\u001b[0;34m(\u001b[0m\u001b[0;34m\"Q = \"\u001b[0m\u001b[0;34m,\u001b[0m \u001b[0mQ\u001b[0m\u001b[0;34m)\u001b[0m\u001b[0;34m\u001b[0m\u001b[0;34m\u001b[0m\u001b[0m\n",
      "\u001b[0;31mTypeError\u001b[0m: rule4() missing 6 required positional arguments: 'dC', 'o', 'D', 'dD', 'l', and 'Q'"
     ]
    }
   ],
   "source": []
  },
  {
   "cell_type": "code",
   "execution_count": 19,
   "id": "fa1b7825-8f8d-4808-8c36-6411b55ea01b",
   "metadata": {},
   "outputs": [
    {
     "name": "stdout",
     "output_type": "stream",
     "text": [
      "vi =  2.329754054735296\n",
      "errvi =  0.001204228025224583\n",
      "The calculated value was exact with my rounded Vi value of 2.33\n"
     ]
    }
   ],
   "source": [
    "import numpy as np\n",
    "\n",
    "def rule4(A, dA, m, B, dB, n, Q):\n",
    "    dQ = Q*np.sqrt((m*(dA/A))**2)+((n*(dB/B))**2)\n",
    "    return dQ\n",
    "y = .990 \n",
    "xavg = 1.0472\n",
    "erry = .0005\n",
    "errx = .0055\n",
    "g = 9.80\n",
    "m = 1\n",
    "n = 1\n",
    "\n",
    "vi = xavg*np.sqrt(g/(2*y))\n",
    "errvi = rule4(y, erry, m, xavg, errx, n, vi)\n",
    "\n",
    "print(\"vi = \", vi)\n",
    "print(\"errvi = \", errvi)\n",
    "print(\"The calculated value was exact with my rounded Vi value of 2.33\")"
   ]
  },
  {
   "cell_type": "code",
   "execution_count": 22,
   "id": "322e7e52-a0ba-4f9b-bd83-b313526258f4",
   "metadata": {},
   "outputs": [
    {
     "name": "stdout",
     "output_type": "stream",
     "text": [
      "mean =  1.1166666666666667 standard deviation =  0.17950549357115014 error in x =  0.073282810879294\n"
     ]
    }
   ],
   "source": [
    "import numpy as np\n",
    "x = np.array([1.1, 1.3, 1.4, 0.9, 0.95, 1.05])\n",
    "xmean = np.average(x)\n",
    "xstdev = np.std(x)\n",
    "n = x.size\n",
    "errx = xstdev/np.sqrt(n)\n",
    "print(\"mean = \", xmean, \"standard deviation = \", xstdev, \"error in x = \", errx)"
   ]
  },
  {
   "cell_type": "markdown",
   "id": "0caf6c41-e60d-485e-9eaa-d2f0ab1d2b37",
   "metadata": {},
   "source": [
    "$Q = \\sqrt{\\delta A^2 + \\delta B^2}$"
   ]
  },
  {
   "cell_type": "markdown",
   "id": "b325c277-52fa-4753-b687-f253fa7aaefc",
   "metadata": {},
   "source": [
    "$\\delta V_i = V_i\\sqrt{(\\frac{\\delta \\overline x}{\\overline x})^2+(\\frac{-1/2\\delta y}{y})^2}$"
   ]
  },
  {
   "cell_type": "markdown",
   "id": "250c8b04-ed56-4e5f-a8ba-8eca55a8a81d",
   "metadata": {
    "jupyter": {
     "source_hidden": true
    },
    "tags": []
   },
   "source": [
    "$\\delta V_i = V_i\\sqrt{(\\frac{\\delta \\overline x}{\\overline x})^2+(\\frac{-1/2\\delta y}{y})^2}$"
   ]
  },
  {
   "cell_type": "code",
   "execution_count": null,
   "id": "d90f9907-8857-40d6-93d8-774cf7edf7a1",
   "metadata": {},
   "outputs": [],
   "source": []
  }
 ],
 "metadata": {
  "kernelspec": {
   "display_name": "Python 3",
   "language": "python",
   "name": "python3"
  },
  "language_info": {
   "codemirror_mode": {
    "name": "ipython",
    "version": 3
   },
   "file_extension": ".py",
   "mimetype": "text/x-python",
   "name": "python",
   "nbconvert_exporter": "python",
   "pygments_lexer": "ipython3",
   "version": "3.8.8"
  }
 },
 "nbformat": 4,
 "nbformat_minor": 5
}
